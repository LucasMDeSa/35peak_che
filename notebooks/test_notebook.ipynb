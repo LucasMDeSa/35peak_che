{
 "cells": [
  {
   "cell_type": "code",
   "execution_count": 1,
   "id": "b46f3cf6",
   "metadata": {},
   "outputs": [
    {
     "name": "stderr",
     "output_type": "stream",
     "text": [
      "/mnt/sw/nix/store/71ksmx7k6xy3v9ksfkv5mp5kxxp64pd6-python-3.10.13-view/lib/python3.10/site-packages/numpy/core/getlimits.py:549: UserWarning: The value of the smallest subnormal for <class 'numpy.float64'> type is zero.\n",
      "  setattr(self, word, getattr(machar, word).flat[0])\n",
      "/mnt/sw/nix/store/71ksmx7k6xy3v9ksfkv5mp5kxxp64pd6-python-3.10.13-view/lib/python3.10/site-packages/numpy/core/getlimits.py:89: UserWarning: The value of the smallest subnormal for <class 'numpy.float64'> type is zero.\n",
      "  return self._float_to_str(self.smallest_subnormal)\n",
      "/mnt/sw/nix/store/71ksmx7k6xy3v9ksfkv5mp5kxxp64pd6-python-3.10.13-view/lib/python3.10/site-packages/numpy/core/getlimits.py:549: UserWarning: The value of the smallest subnormal for <class 'numpy.float32'> type is zero.\n",
      "  setattr(self, word, getattr(machar, word).flat[0])\n",
      "/mnt/sw/nix/store/71ksmx7k6xy3v9ksfkv5mp5kxxp64pd6-python-3.10.13-view/lib/python3.10/site-packages/numpy/core/getlimits.py:89: UserWarning: The value of the smallest subnormal for <class 'numpy.float32'> type is zero.\n",
      "  return self._float_to_str(self.smallest_subnormal)\n"
     ]
    }
   ],
   "source": [
    "from pathlib import Path\n",
    "import numpy as np\n",
    "import pandas as pd\n",
    "\n",
    "from get_core_properties_v3 import read_system, get_system_flags\n",
    "\n",
    "import sys\n",
    "sys.path.append('..')\n",
    "from src.util import MESA_DATA_ROOT\n"
   ]
  },
  {
   "cell_type": "code",
   "execution_count": 2,
   "id": "33367c82",
   "metadata": {},
   "outputs": [],
   "source": [
    "def get_model_dict(grid_folder):\n",
    "    \"\"\"Given a model folder, loads the paths of specific stars into a \n",
    "    m1, p_orb dictionary.\"\"\"\n",
    "    d = dict()\n",
    "    for model_folder in grid_folder.glob('m*_w*'):\n",
    "        if model_folder.suffix == '.log':\n",
    "            continue\n",
    "        try:\n",
    "            m, p, w = model_folder.name.replace('d', 'e').split('_')\n",
    "            w = float(w.lstrip('w'))\n",
    "            p = f'{float(p.lstrip(\"p\")):.2f}'      \n",
    "        except ValueError:\n",
    "            m, w = model_folder.name.replace('d', 'e').split('_')   \n",
    "            w = float(w.lstrip('w'))\n",
    "            p = (2*np.pi/w) / (60*60*24)\n",
    "        m = f'{float(m.lstrip(\"m\")):.1f}'\n",
    "        \n",
    "        if m not in d.keys():\n",
    "            d[m] = dict()\n",
    "        d[m][p] = model_folder\n",
    "    return d\n",
    "\n",
    "def load_models(project_folder):\n",
    "    model_folders = list(project_folder.glob('*_md*_m*_zsundiv*_*y0_*dy'))\n",
    "    _model_dicts = np.array([get_model_dict(folder) for folder in model_folders])\n",
    "    model_dicts = dict()\n",
    "    for dicts in _model_dicts:\n",
    "        for m in dicts.keys():\n",
    "            if m not in model_dicts.keys():\n",
    "                model_dicts[m] = dicts[m]\n",
    "    return model_dicts"
   ]
  },
  {
   "cell_type": "code",
   "execution_count": 3,
   "id": "6982392f",
   "metadata": {},
   "outputs": [],
   "source": [
    "project_folder = MESA_DATA_ROOT/'sse_enhanced_w_proof_of_concept/00_ZdivZsun_1d-1'\n",
    "model_dicts_01zsun = load_models(project_folder)\n",
    "\n",
    "project_folder = MESA_DATA_ROOT/'sse_enhanced_w_proof_of_concept/09_ZdivZsun_5d-4'\n",
    "model_dicts_00005zsun = load_models(project_folder)\n",
    "\n",
    "project_folder = MESA_DATA_ROOT/'sse_enhanced_w_proof_of_concept/08_ZdivZsun_5d-3'\n",
    "model_dicts_0005zsun = load_models(project_folder)\n",
    "\n",
    "project_folder = MESA_DATA_ROOT/'sse_enhanced_w_proof_of_concept/07_ZdivZsun_2d-2'\n",
    "model_dicts_002zsun = load_models(project_folder)\n",
    "\n",
    "project_folder = MESA_DATA_ROOT/'sse_enhanced_w_proof_of_concept/05_ZdivZsun_1d0'\n",
    "model_dicts_10zsun = load_models(project_folder)\n",
    "\n",
    "project_folder = MESA_DATA_ROOT/'sse_enhanced_w_proof_of_concept/04_ZdivZsun_8d-1'\n",
    "model_dicts_08zsun = load_models(project_folder)\n",
    "\n",
    "project_folder = MESA_DATA_ROOT/'sse_enhanced_w_proof_of_concept/03_ZdivZsun_6d-1'\n",
    "model_dicts_06zsun = load_models(project_folder)\n"
   ]
  },
  {
   "cell_type": "code",
   "execution_count": 4,
   "id": "3bc00d27",
   "metadata": {},
   "outputs": [],
   "source": [
    "model_path = model_dicts_10zsun['100.0']['3.00']\n",
    "row = read_system(model_path, '0.005')"
   ]
  },
  {
   "cell_type": "code",
   "execution_count": 5,
   "id": "61eec6ce",
   "metadata": {},
   "outputs": [],
   "source": [
    "import mesa_reader as mr\n",
    "h = mr.MesaData(str(model_path/'LOGS/history.data'))"
   ]
  },
  {
   "cell_type": "code",
   "execution_count": 6,
   "id": "a0341242",
   "metadata": {},
   "outputs": [
    {
     "data": {
      "text/plain": [
       "array([0.69948451, 0.69950606, 0.69958194, 0.69960224, 0.69960411,\n",
       "       0.69960425, 0.69960423, 0.69960413, 0.69960392, 0.69960365,\n",
       "       0.69960334, 0.699603  , 0.69960263, 0.69960222, 0.69960176,\n",
       "       0.69960126, 0.6996007 , 0.69960008, 0.6995994 , 0.69959864,\n",
       "       0.6995978 , 0.69959688, 0.69959586, 0.69959474, 0.6995935 ,\n",
       "       0.69959214, 0.69959064, 0.69958898, 0.69958717, 0.69958518,\n",
       "       0.699583  , 0.69958062, 0.69957802, 0.69957518, 0.69957208,\n",
       "       0.6995687 , 0.69956502, 0.69956101, 0.69955663, 0.69955184,\n",
       "       0.6995466 , 0.69954083, 0.69953447, 0.6995274 , 0.69951954,\n",
       "       0.69951074, 0.69950082, 0.69948963, 0.69947696, 0.69946265,\n",
       "       0.69944646, 0.69942818, 0.6994077 , 0.69938479, 0.69935911,\n",
       "       0.69933072, 0.69929915, 0.69926426, 0.69922583, 0.69918334,\n",
       "       0.69913658, 0.6990852 , 0.69902849, 0.69896613, 0.69889758,\n",
       "       0.69882262, 0.69874004, 0.6986493 , 0.69854915, 0.69843942,\n",
       "       0.69831892, 0.69818659, 0.69804127, 0.69788167, 0.69770637,\n",
       "       0.69751382, 0.69730232, 0.69707001, 0.69681482, 0.69653317,\n",
       "       0.69622505, 0.69588639, 0.69551465, 0.69510641, 0.69465589,\n",
       "       0.69416311, 0.69362152, 0.69302691, 0.6923708 , 0.69165303,\n",
       "       0.69086428, 0.68999414, 0.68904233, 0.68799596, 0.68684139,\n",
       "       0.68577971, 0.68475228, 0.68375027, 0.68275102, 0.6817627 ,\n",
       "       0.68077491, 0.67968296, 0.67849004, 0.67740355, 0.67636027,\n",
       "       0.67535009, 0.67434959, 0.67334726, 0.672357  , 0.6712652 ,\n",
       "       0.67005669, 0.66896861, 0.66792916, 0.66690554, 0.66590449,\n",
       "       0.66490731, 0.66390385, 0.66291275, 0.66181962, 0.6606169 ,\n",
       "       0.65951439, 0.65847514, 0.65745852, 0.65644341, 0.65544648,\n",
       "       0.65445089, 0.65345452, 0.6524495 , 0.65145744, 0.65036332,\n",
       "       0.64915873, 0.64805301, 0.64701105, 0.64599437, 0.64498639,\n",
       "       0.64397397, 0.64297619, 0.64198219, 0.64088696, 0.6396808 ,\n",
       "       0.63857253, 0.63752657, 0.63651052, 0.63550369, 0.63448888,\n",
       "       0.63348714, 0.63249254, 0.63139902, 0.63019373, 0.62908272,\n",
       "       0.62803311, 0.62701261, 0.62600554, 0.62499146, 0.62398918,\n",
       "       0.62298816, 0.62198497, 0.62096657, 0.61996653, 0.61896758,\n",
       "       0.61797265, 0.61687638, 0.61568096, 0.61458376, 0.61350442,\n",
       "       0.61246157, 0.61144818, 0.61044275, 0.60944749, 0.60836548,\n",
       "       0.60713158, 0.60602946, 0.60496805, 0.60395827, 0.60293111,\n",
       "       0.60189834, 0.60089888, 0.59989983, 0.59889251, 0.59790379,\n",
       "       0.59679302, 0.59561418, 0.59450436, 0.59345547, 0.59244068,\n",
       "       0.59141124, 0.59039291, 0.58938401, 0.58838017, 0.58739556,\n",
       "       0.58628061, 0.58508275, 0.58393114, 0.58286815, 0.58184149,\n",
       "       0.58087227, 0.57973203, 0.57853524, 0.57741098, 0.57635156,\n",
       "       0.57532126, 0.57430861, 0.57327067, 0.57222607, 0.57122707,\n",
       "       0.57020931, 0.56920656, 0.56826851, 0.56713777, 0.56590668,\n",
       "       0.56481612, 0.56376107, 0.56281542, 0.56166171, 0.56042448,\n",
       "       0.55928316, 0.55834692, 0.55717427, 0.55611773, 0.55492605,\n",
       "       0.55376693, 0.55267769, 0.5517074 , 0.55056447, 0.54929677,\n",
       "       0.54816661, 0.54716527, 0.54612338, 0.54508632, 0.54408154,\n",
       "       0.5430606 , 0.54204092, 0.5412531 , 0.5401514 , 0.53901977,\n",
       "       0.5378841 , 0.53692082, 0.53578034, 0.53446497, 0.53330972,\n",
       "       0.53222663, 0.53124357, 0.53011411, 0.52884732, 0.52771384,\n",
       "       0.52675559, 0.52561456, 0.52433173, 0.52322286, 0.52214505,\n",
       "       0.52128874, 0.52013044, 0.51890262, 0.51776862, 0.51679613,\n",
       "       0.51560293, 0.51439012, 0.51323118, 0.51216417, 0.51128063,\n",
       "       0.51010474, 0.50882303, 0.50778802, 0.50668195, 0.5056963 ,\n",
       "       0.50902025, 0.50776136, 0.50676402, 0.50566508, 0.5044647 ,\n",
       "       0.5033699 , 0.50232466, 0.50130756, 0.50029406, 0.49929001,\n",
       "       0.49828198, 0.49727606, 0.4962773 , 0.49516462, 0.49394012,\n",
       "       0.49282642, 0.49176339, 0.49073459, 0.48971045, 0.4886927 ,\n",
       "       0.48767944, 0.48666841, 0.48566405])"
      ]
     },
     "execution_count": 6,
     "metadata": {},
     "output_type": "execute_result"
    }
   ],
   "source": [
    "h.center_h1"
   ]
  },
  {
   "cell_type": "code",
   "execution_count": 12,
   "id": "cf51a1d7",
   "metadata": {},
   "outputs": [
    {
     "data": {
      "text/plain": [
       "array([0.28417922, 0.284179  , 0.28418009, 0.28418124, 0.28418247,\n",
       "       0.28418376, 0.28418514, 0.28418658, 0.28418812, 0.28418976,\n",
       "       0.2841915 , 0.28419337, 0.28419538, 0.28419757, 0.28419996,\n",
       "       0.28420259, 0.28420552, 0.2842088 , 0.28421252, 0.28421675,\n",
       "       0.28422163, 0.28422729, 0.28423388, 0.2842416 , 0.28425063,\n",
       "       0.28426118, 0.28427345, 0.28428762, 0.28430387, 0.2843221 ,\n",
       "       0.28434248, 0.28436479, 0.28438889, 0.28441507, 0.28444311,\n",
       "       0.28447349, 0.2845068 , 0.28454363, 0.28458465, 0.28463144,\n",
       "       0.28468279, 0.28473999, 0.28480369, 0.28487354, 0.28495019,\n",
       "       0.28503581, 0.28512905, 0.28523222, 0.28534637, 0.28547149,\n",
       "       0.28560877, 0.28576019, 0.28592675, 0.28610932, 0.28630979,\n",
       "       0.28653038, 0.28677243, 0.28703766, 0.28732876, 0.28764854,\n",
       "       0.28799893, 0.28838253, 0.28880346, 0.28926536, 0.28977437,\n",
       "       0.29032639, 0.29093445, 0.29160128, 0.29232756, 0.29312438,\n",
       "       0.29399964, 0.29495945, 0.29600375, 0.29714963, 0.29821837,\n",
       "       0.29925062, 0.30025422, 0.30125374, 0.30235312, 0.30356172,\n",
       "       0.3046366 , 0.30568277, 0.30670692, 0.30771862, 0.30870816,\n",
       "       0.30980629, 0.31101941, 0.31211859, 0.31314857, 0.31416167,\n",
       "       0.31517731, 0.31618163, 0.31718123, 0.31827717, 0.31948209,\n",
       "       0.3205729 , 0.32164512, 0.32266178, 0.32364668, 0.32475272,\n",
       "       0.32596129, 0.32708138, 0.32813477, 0.32915448, 0.33013967,\n",
       "       0.33122767, 0.33244923, 0.33356381, 0.33462338, 0.33563594,\n",
       "       0.3366594 , 0.33769735, 0.33870826, 0.33970762, 0.34080107,\n",
       "       0.34200537, 0.34303431, 0.34402581, 0.34518818, 0.34646522,\n",
       "       0.34758313, 0.34867073, 0.34974923, 0.35083522, 0.35190353,\n",
       "       0.35290196, 0.35394169, 0.35513304, 0.35637438, 0.35744484,\n",
       "       0.35848645, 0.35954375, 0.36061933, 0.36165708, 0.36273368,\n",
       "       0.36383572, 0.36494801, 0.36602371, 0.36704728, 0.368036  ,\n",
       "       0.36917213, 0.37037433, 0.37150171, 0.37257113, 0.37360306,\n",
       "       0.37461056, 0.37561742, 0.37662407, 0.37761602, 0.37873348,\n",
       "       0.37997222, 0.38105427, 0.38213243, 0.38314004, 0.38418771,\n",
       "       0.38517944, 0.38630816, 0.38758689, 0.38811384, 0.38937376,\n",
       "       0.39058734, 0.39179121, 0.39245585, 0.39371773, 0.3947368 ,\n",
       "       0.39602337, 0.39708698, 0.39821166, 0.398359  , 0.39957484,\n",
       "       0.40065413, 0.40189413, 0.40308044, 0.40409056, 0.40441827,\n",
       "       0.40555596, 0.40660616, 0.4078014 , 0.4087045 , 0.40999307,\n",
       "       0.41140113, 0.41171453, 0.41303249, 0.41448772, 0.41528615,\n",
       "       0.4166312 , 0.41810037, 0.41840892, 0.41975764, 0.42123947,\n",
       "       0.42182581, 0.42316526, 0.42389586, 0.42554038, 0.42733994,\n",
       "       0.42696818, 0.42844802, 0.42931868, 0.43020181, 0.43115664,\n",
       "       0.43133029, 0.43251286, 0.43380509, 0.43370112, 0.43495504,\n",
       "       0.43634412, 0.43753132, 0.4373314 , 0.43851191, 0.43984298,\n",
       "       0.44099648, 0.44204945, 0.4414618 , 0.44259278, 0.44290902,\n",
       "       0.44429738, 0.44492156, 0.44568955, 0.44654238, 0.44667656,\n",
       "       0.44771407, 0.44872378, 0.4498112 , 0.45059475, 0.4517895 ,\n",
       "       0.45310556, 0.45334336, 0.45461476, 0.45602289, 0.45720325,\n",
       "       0.45636587, 0.45753605, 0.45818403, 0.45964469, 0.46009674,\n",
       "       0.46089743, 0.46178655, 0.46207746, 0.46315425, 0.46432315,\n",
       "       0.46443857, 0.46563346, 0.46696837, 0.46797956, 0.46861415,\n",
       "       0.46984579, 0.47119768, 0.47233984, 0.4696762 , 0.47053872,\n",
       "       0.47149002, 0.47246833, 0.47362512, 0.47490147, 0.47586431,\n",
       "       0.47711323, 0.47828881, 0.47951499, 0.4805514 , 0.48158214,\n",
       "       0.48247481, 0.48367052, 0.48500459, 0.48599653, 0.48725716])"
      ]
     },
     "execution_count": 12,
     "metadata": {},
     "output_type": "execute_result"
    }
   ],
   "source": [
    "h.center_he4"
   ]
  },
  {
   "cell_type": "code",
   "execution_count": 6,
   "id": "dac71639",
   "metadata": {},
   "outputs": [
    {
     "data": {
      "text/plain": [
       "([True, False, True, True, True, False, False, True],\n",
       " <mesa_reader.MesaData at 0x1555482c0040>,\n",
       " <mesa_reader.MesaData at 0x1555020dc2b0>)"
      ]
     },
     "execution_count": 6,
     "metadata": {},
     "output_type": "execute_result"
    }
   ],
   "source": [
    "get_system_flags(model_path)"
   ]
  },
  {
   "cell_type": "code",
   "execution_count": 9,
   "id": "c2cb69eb",
   "metadata": {},
   "outputs": [
    {
     "data": {
      "text/plain": [
       "0.00028451911771548103"
      ]
     },
     "execution_count": 9,
     "metadata": {},
     "output_type": "execute_result"
    }
   ],
   "source": [
    "h.center_he4[-1]"
   ]
  },
  {
   "cell_type": "code",
   "execution_count": 10,
   "id": "ac0e4083",
   "metadata": {},
   "outputs": [
    {
     "data": {
      "text/plain": [
       "[<matplotlib.lines.Line2D at 0x1555070cd660>]"
      ]
     },
     "execution_count": 10,
     "metadata": {},
     "output_type": "execute_result"
    },
    {
     "data": {
      "image/png": "[encoded data removed]",
      "text/plain": [
       "<Figure size 640x480 with 1 Axes>"
      ]
     },
     "metadata": {},
     "output_type": "display_data"
    }
   ],
   "source": [
    "import matplotlib.pyplot as plt\n",
    "plt.plot(h.star_age, h.center_h1)\n",
    "plt.plot(h.star_age, \n",
    "         h.center_he4)\n",
    "plt.plot(h.star_age, h.center_c12)"
   ]
  },
  {
   "cell_type": "code",
   "execution_count": null,
   "id": "067c60e8",
   "metadata": {},
   "outputs": [],
   "source": []
  },
  {
   "cell_type": "code",
   "execution_count": 10,
   "id": "22c5e003",
   "metadata": {},
   "outputs": [
    {
     "data": {
      "text/plain": [
       "[PosixPath('/mnt/ceph/users/ldesa/mesa_che_grids/sse_enhanced_w_proof_of_concept/05_ZdivZsun_1d0/008_md1_m100_zsundiv10_04y0_03dy/m1.000d+02_p3.000d+00_w2.424d-05/LOGS/CHE_single_core_collapse.data'),\n",
       " PosixPath('/mnt/ceph/users/ldesa/mesa_che_grids/sse_enhanced_w_proof_of_concept/05_ZdivZsun_1d0/008_md1_m100_zsundiv10_04y0_03dy/m1.000d+02_p3.000d+00_w2.424d-05/LOGS/profile4.data'),\n",
       " PosixPath('/mnt/ceph/users/ldesa/mesa_che_grids/sse_enhanced_w_proof_of_concept/05_ZdivZsun_1d0/008_md1_m100_zsundiv10_04y0_03dy/m1.000d+02_p3.000d+00_w2.424d-05/LOGS/profile2.data'),\n",
       " PosixPath('/mnt/ceph/users/ldesa/mesa_che_grids/sse_enhanced_w_proof_of_concept/05_ZdivZsun_1d0/008_md1_m100_zsundiv10_04y0_03dy/m1.000d+02_p3.000d+00_w2.424d-05/LOGS/history.data'),\n",
       " PosixPath('/mnt/ceph/users/ldesa/mesa_che_grids/sse_enhanced_w_proof_of_concept/05_ZdivZsun_1d0/008_md1_m100_zsundiv10_04y0_03dy/m1.000d+02_p3.000d+00_w2.424d-05/LOGS/profile3.data'),\n",
       " PosixPath('/mnt/ceph/users/ldesa/mesa_che_grids/sse_enhanced_w_proof_of_concept/05_ZdivZsun_1d0/008_md1_m100_zsundiv10_04y0_03dy/m1.000d+02_p3.000d+00_w2.424d-05/LOGS/profile1.data')]"
      ]
     },
     "execution_count": 10,
     "metadata": {},
     "output_type": "execute_result"
    }
   ],
   "source": [
    "list((model_path/'LOGS').glob('*.data'))"
   ]
  },
  {
   "cell_type": "code",
   "execution_count": 14,
   "id": "8edc9706",
   "metadata": {},
   "outputs": [],
   "source": [
    "prof = mr.MesaData(str(model_path/'LOGS/profile4.data'))"
   ]
  },
  {
   "cell_type": "code",
   "execution_count": 18,
   "id": "de7e8ec2",
   "metadata": {},
   "outputs": [
    {
     "data": {
      "text/plain": [
       "array([9.70894125e+01, 9.70894125e+01, 9.70894125e+01, ...,\n",
       "       9.75647425e-06, 9.71291023e-06, 9.63702812e-06])"
      ]
     },
     "execution_count": 18,
     "metadata": {},
     "output_type": "execute_result"
    }
   ],
   "source": [
    "prof.mass"
   ]
  },
  {
   "cell_type": "code",
   "execution_count": 15,
   "id": "d8cecb34",
   "metadata": {},
   "outputs": [
    {
     "data": {
      "text/plain": [
       "array([3.19359215e+53, 3.19359215e+53, 3.19359215e+53, ...,\n",
       "       5.14461603e+41, 5.12145697e+41, 5.08123747e+41])"
      ]
     },
     "execution_count": 15,
     "metadata": {},
     "output_type": "execute_result"
    }
   ],
   "source": [
    "prof.J_inside"
   ]
  },
  {
   "cell_type": "code",
   "execution_count": null,
   "id": "e5a0558a",
   "metadata": {},
   "outputs": [],
   "source": [
    "prof."
   ]
  },
  {
   "cell_type": "code",
   "execution_count": 7,
   "id": "04ef582f",
   "metadata": {},
   "outputs": [
    {
     "data": {
      "text/plain": [
       "33.93736983216337"
      ]
     },
     "execution_count": 7,
     "metadata": {},
     "output_type": "execute_result"
    }
   ],
   "source": [
    "prof.mass[0]"
   ]
  },
  {
   "cell_type": "code",
   "execution_count": 8,
   "id": "98af18af",
   "metadata": {},
   "outputs": [
    {
     "data": {
      "text/plain": [
       "2111"
      ]
     },
     "execution_count": 8,
     "metadata": {},
     "output_type": "execute_result"
    }
   ],
   "source": [
    "len(prof.mixing_type) - np.where(prof.mixing_type[::-1] != 1)[0][0]"
   ]
  },
  {
   "cell_type": "code",
   "execution_count": null,
   "id": "60ad1457",
   "metadata": {},
   "outputs": [],
   "source": [
    "row = read_system(model_path, '0.0005')"
   ]
  },
  {
   "cell_type": "code",
   "execution_count": 11,
   "id": "a2bcb37e",
   "metadata": {},
   "outputs": [
    {
     "data": {
      "text/plain": [
       "z_key                                0.1\n",
       "m_zams                              80.0\n",
       "m_wr0                          79.526121\n",
       "m_wr1                          57.117217\n",
       "m_tams                         44.040247\n",
       "m_tahems                       33.970154\n",
       "m_f                             33.93737\n",
       "m_c_zams                       61.810767\n",
       "m_c_wr0                        63.771941\n",
       "m_c_wr1                        45.908341\n",
       "m_c_tams                       30.648966\n",
       "m_c_tahems                      16.54786\n",
       "m_c_f                           0.000003\n",
       "p_zams                          1.401835\n",
       "p_wr0                            1.61224\n",
       "p_wr1                          16.256212\n",
       "p_tams                          9.563283\n",
       "p_tahems                        0.839802\n",
       "p_f                             0.006662\n",
       "r_zams                         10.808682\n",
       "r_wr0                          11.482711\n",
       "r_wr1                          10.279706\n",
       "r_tams                          3.542763\n",
       "r_tahems                        1.271589\n",
       "r_f                             0.642212\n",
       "r_c_zams                        4.832233\n",
       "r_c_wr0                          5.00801\n",
       "r_c_wr1                         4.099632\n",
       "r_c_tams                        1.107201\n",
       "r_c_tahems                       0.27144\n",
       "r_c_f                           0.000273\n",
       "log_rho_c_zams                 -0.555332\n",
       "log_rho_c_wr0                   -0.64166\n",
       "log_rho_c_wr1                  -0.557312\n",
       "log_rho_c_tams                  1.102386\n",
       "log_rho_c_tahems                2.814535\n",
       "log_rho_c_f                     5.369536\n",
       "t_d                   39466759969.729156\n",
       "is_che                              True\n",
       "is_crit_at_zams                    False\n",
       "is_merger_at_zams                  False\n",
       "is_l2of_at_zams                    False\n",
       "is_half_C_depleted                  True\n",
       "is_C_depleted                       True\n",
       "is_crash                           False\n",
       "Name: 0, dtype: object"
      ]
     },
     "execution_count": 11,
     "metadata": {},
     "output_type": "execute_result"
    }
   ],
   "source": [
    "row.iloc[0]"
   ]
  },
  {
   "cell_type": "code",
   "execution_count": null,
   "id": "9e9482ee",
   "metadata": {},
   "outputs": [
    {
     "ename": "",
     "evalue": "",
     "output_type": "error",
     "traceback": [
      "\u001b[1;31mnotebook controller is DISPOSED. \n",
      "\u001b[1;31mView Jupyter <a href='command:jupyter.viewOutput'>log</a> for further details."
     ]
    },
    {
     "ename": "",
     "evalue": "",
     "output_type": "error",
     "traceback": [
      "\u001b[1;31mnotebook controller is DISPOSED. \n",
      "\u001b[1;31mView Jupyter <a href='command:jupyter.viewOutput'>log</a> for further details."
     ]
    },
    {
     "ename": "",
     "evalue": "",
     "output_type": "error",
     "traceback": [
      "\u001b[1;31mnotebook controller is DISPOSED. \n",
      "\u001b[1;31mView Jupyter <a href='command:jupyter.viewOutput'>log</a> for further details."
     ]
    },
    {
     "ename": "",
     "evalue": "",
     "output_type": "error",
     "traceback": [
      "\u001b[1;31mnotebook controller is DISPOSED. \n",
      "\u001b[1;31mView Jupyter <a href='command:jupyter.viewOutput'>log</a> for further details."
     ]
    },
    {
     "ename": "",
     "evalue": "",
     "output_type": "error",
     "traceback": [
      "\u001b[1;31mnotebook controller is DISPOSED. \n",
      "\u001b[1;31mView Jupyter <a href='command:jupyter.viewOutput'>log</a> for further details."
     ]
    },
    {
     "ename": "",
     "evalue": "",
     "output_type": "error",
     "traceback": [
      "\u001b[1;31mnotebook controller is DISPOSED. \n",
      "\u001b[1;31mView Jupyter <a href='command:jupyter.viewOutput'>log</a> for further details."
     ]
    },
    {
     "ename": "",
     "evalue": "",
     "output_type": "error",
     "traceback": [
      "\u001b[1;31mnotebook controller is DISPOSED. \n",
      "\u001b[1;31mView Jupyter <a href='command:jupyter.viewOutput'>log</a> for further details."
     ]
    }
   ],
   "source": [
    "model_path = model_dicts_01zsun['80.0']['1.40']"
   ]
  },
  {
   "cell_type": "code",
   "execution_count": null,
   "id": "a22f793a",
   "metadata": {},
   "outputs": [
    {
     "name": "stdout",
     "output_type": "stream",
     "text": [
      "25 7 32\n"
     ]
    },
    {
     "ename": "",
     "evalue": "",
     "output_type": "error",
     "traceback": [
      "\u001b[1;31mnotebook controller is DISPOSED. \n",
      "\u001b[1;31mView Jupyter <a href='command:jupyter.viewOutput'>log</a> for further details."
     ]
    },
    {
     "ename": "",
     "evalue": "",
     "output_type": "error",
     "traceback": [
      "\u001b[1;31mnotebook controller is DISPOSED. \n",
      "\u001b[1;31mView Jupyter <a href='command:jupyter.viewOutput'>log</a> for further details."
     ]
    },
    {
     "ename": "",
     "evalue": "",
     "output_type": "error",
     "traceback": [
      "\u001b[1;31mnotebook controller is DISPOSED. \n",
      "\u001b[1;31mView Jupyter <a href='command:jupyter.viewOutput'>log</a> for further details."
     ]
    },
    {
     "ename": "",
     "evalue": "",
     "output_type": "error",
     "traceback": [
      "\u001b[1;31mnotebook controller is DISPOSED. \n",
      "\u001b[1;31mView Jupyter <a href='command:jupyter.viewOutput'>log</a> for further details."
     ]
    },
    {
     "ename": "",
     "evalue": "",
     "output_type": "error",
     "traceback": [
      "\u001b[1;31mnotebook controller is DISPOSED. \n",
      "\u001b[1;31mView Jupyter <a href='command:jupyter.viewOutput'>log</a> for further details."
     ]
    },
    {
     "ename": "",
     "evalue": "",
     "output_type": "error",
     "traceback": [
      "\u001b[1;31mnotebook controller is DISPOSED. \n",
      "\u001b[1;31mView Jupyter <a href='command:jupyter.viewOutput'>log</a> for further details."
     ]
    },
    {
     "ename": "",
     "evalue": "",
     "output_type": "error",
     "traceback": [
      "\u001b[1;31mnotebook controller is DISPOSED. \n",
      "\u001b[1;31mView Jupyter <a href='command:jupyter.viewOutput'>log</a> for further details."
     ]
    }
   ],
   "source": [
    "row = read_system(model_path)"
   ]
  },
  {
   "cell_type": "code",
   "execution_count": null,
   "id": "84ad72e2",
   "metadata": {},
   "outputs": [
    {
     "data": {
      "text/html": [
       "<div>\n",
       "<style scoped>\n",
       "    .dataframe tbody tr th:only-of-type {\n",
       "        vertical-align: middle;\n",
       "    }\n",
       "\n",
       "    .dataframe tbody tr th {\n",
       "        vertical-align: top;\n",
       "    }\n",
       "\n",
       "    .dataframe thead th {\n",
       "        text-align: right;\n",
       "    }\n",
       "</style>\n",
       "<table border=\"1\" class=\"dataframe\">\n",
       "  <thead>\n",
       "    <tr style=\"text-align: right;\">\n",
       "      <th></th>\n",
       "      <th>m_zams</th>\n",
       "      <th>m_wr0</th>\n",
       "      <th>m_wr1</th>\n",
       "      <th>m_tams</th>\n",
       "      <th>m_tahems</th>\n",
       "      <th>m_f</th>\n",
       "      <th>p_zams</th>\n",
       "      <th>p_wr0</th>\n",
       "      <th>p_wr1</th>\n",
       "      <th>p_tams</th>\n",
       "      <th>...</th>\n",
       "      <th>rho_c_tahems</th>\n",
       "      <th>rho_c_f</th>\n",
       "      <th>t_d</th>\n",
       "      <th>is_che</th>\n",
       "      <th>is_crit_at_zams</th>\n",
       "      <th>is_merger_at_zams</th>\n",
       "      <th>is_l2of_at_zams</th>\n",
       "      <th>is_half_C_depleted</th>\n",
       "      <th>is_C_depleted</th>\n",
       "      <th>is_crash</th>\n",
       "    </tr>\n",
       "  </thead>\n",
       "  <tbody>\n",
       "    <tr>\n",
       "      <th>0</th>\n",
       "      <td>79.995782</td>\n",
       "      <td>79.526121</td>\n",
       "      <td>57.117217</td>\n",
       "      <td>44.040247</td>\n",
       "      <td>33.970154</td>\n",
       "      <td>0.000003</td>\n",
       "      <td>1.401835</td>\n",
       "      <td>1.61224</td>\n",
       "      <td>16.256212</td>\n",
       "      <td>9.563283</td>\n",
       "      <td>...</td>\n",
       "      <td>5.510846e-09</td>\n",
       "      <td>1.752872e-08</td>\n",
       "      <td>3.946283e+31</td>\n",
       "      <td>True</td>\n",
       "      <td>False</td>\n",
       "      <td>False</td>\n",
       "      <td>False</td>\n",
       "      <td>True</td>\n",
       "      <td>True</td>\n",
       "      <td>False</td>\n",
       "    </tr>\n",
       "  </tbody>\n",
       "</table>\n",
       "<p>1 rows × 32 columns</p>\n",
       "</div>"
      ],
      "text/plain": [
       "      m_zams      m_wr0      m_wr1     m_tams   m_tahems       m_f    p_zams  \\\n",
       "0  79.995782  79.526121  57.117217  44.040247  33.970154  0.000003  1.401835   \n",
       "\n",
       "     p_wr0      p_wr1    p_tams  ...  rho_c_tahems       rho_c_f  \\\n",
       "0  1.61224  16.256212  9.563283  ...  5.510846e-09  1.752872e-08   \n",
       "\n",
       "            t_d  is_che  is_crit_at_zams  is_merger_at_zams  is_l2of_at_zams  \\\n",
       "0  3.946283e+31    True            False              False            False   \n",
       "\n",
       "   is_half_C_depleted  is_C_depleted  is_crash  \n",
       "0                True           True     False  \n",
       "\n",
       "[1 rows x 32 columns]"
      ]
     },
     "metadata": {},
     "output_type": "display_data"
    },
    {
     "ename": "",
     "evalue": "",
     "output_type": "error",
     "traceback": [
      "\u001b[1;31mnotebook controller is DISPOSED. \n",
      "\u001b[1;31mView Jupyter <a href='command:jupyter.viewOutput'>log</a> for further details."
     ]
    },
    {
     "ename": "",
     "evalue": "",
     "output_type": "error",
     "traceback": [
      "\u001b[1;31mnotebook controller is DISPOSED. \n",
      "\u001b[1;31mView Jupyter <a href='command:jupyter.viewOutput'>log</a> for further details."
     ]
    },
    {
     "ename": "",
     "evalue": "",
     "output_type": "error",
     "traceback": [
      "\u001b[1;31mnotebook controller is DISPOSED. \n",
      "\u001b[1;31mView Jupyter <a href='command:jupyter.viewOutput'>log</a> for further details."
     ]
    },
    {
     "ename": "",
     "evalue": "",
     "output_type": "error",
     "traceback": [
      "\u001b[1;31mnotebook controller is DISPOSED. \n",
      "\u001b[1;31mView Jupyter <a href='command:jupyter.viewOutput'>log</a> for further details."
     ]
    },
    {
     "ename": "",
     "evalue": "",
     "output_type": "error",
     "traceback": [
      "\u001b[1;31mnotebook controller is DISPOSED. \n",
      "\u001b[1;31mView Jupyter <a href='command:jupyter.viewOutput'>log</a> for further details."
     ]
    },
    {
     "ename": "",
     "evalue": "",
     "output_type": "error",
     "traceback": [
      "\u001b[1;31mnotebook controller is DISPOSED. \n",
      "\u001b[1;31mView Jupyter <a href='command:jupyter.viewOutput'>log</a> for further details."
     ]
    },
    {
     "ename": "",
     "evalue": "",
     "output_type": "error",
     "traceback": [
      "\u001b[1;31mnotebook controller is DISPOSED. \n",
      "\u001b[1;31mView Jupyter <a href='command:jupyter.viewOutput'>log</a> for further details."
     ]
    },
    {
     "ename": "",
     "evalue": "",
     "output_type": "error",
     "traceback": [
      "\u001b[1;31mnotebook controller is DISPOSED. \n",
      "\u001b[1;31mView Jupyter <a href='command:jupyter.viewOutput'>log</a> for further details."
     ]
    }
   ],
   "source": [
    "row"
   ]
  },
  {
   "cell_type": "code",
   "execution_count": null,
   "id": "d7ef418f",
   "metadata": {},
   "outputs": [
    {
     "ename": "ValueError",
     "evalue": "entry not a 2- or 3- tuple",
     "output_type": "error",
     "traceback": [
      "\u001b[0;31m---------------------------------------------------------------------------\u001b[0m",
      "\u001b[0;31mValueError\u001b[0m                                Traceback (most recent call last)",
      "Cell \u001b[0;32mIn[6], line 1\u001b[0m\n\u001b[0;32m----> 1\u001b[0m df \u001b[38;5;241m=\u001b[39m \u001b[43mpd\u001b[49m\u001b[38;5;241;43m.\u001b[39;49m\u001b[43mDataFrame\u001b[49m\u001b[43m(\u001b[49m\u001b[43m[\u001b[49m\u001b[43m[\u001b[49m\u001b[38;5;241;43m1\u001b[39;49m\u001b[43m,\u001b[49m\u001b[38;5;241;43m2\u001b[39;49m\u001b[43m,\u001b[49m\u001b[38;5;241;43m3\u001b[39;49m\u001b[43m]\u001b[49m\u001b[43m]\u001b[49m\u001b[43m,\u001b[49m\u001b[43m \u001b[49m\u001b[43mcolumns\u001b[49m\u001b[38;5;241;43m=\u001b[39;49m\u001b[43m[\u001b[49m\u001b[38;5;124;43m'\u001b[39;49m\u001b[38;5;124;43ma\u001b[39;49m\u001b[38;5;124;43m'\u001b[39;49m\u001b[43m,\u001b[49m\u001b[43m \u001b[49m\u001b[38;5;124;43m'\u001b[39;49m\u001b[38;5;124;43mb\u001b[39;49m\u001b[38;5;124;43m'\u001b[39;49m\u001b[43m,\u001b[49m\u001b[43m \u001b[49m\u001b[38;5;124;43m'\u001b[39;49m\u001b[38;5;124;43mc\u001b[39;49m\u001b[38;5;124;43m'\u001b[39;49m\u001b[43m]\u001b[49m\u001b[43m,\u001b[49m\u001b[43m \u001b[49m\u001b[43mdtype\u001b[49m\u001b[38;5;241;43m=\u001b[39;49m\u001b[43m{\u001b[49m\u001b[38;5;124;43m'\u001b[39;49m\u001b[38;5;124;43ma\u001b[39;49m\u001b[38;5;124;43m'\u001b[39;49m\u001b[43m:\u001b[49m\u001b[43m \u001b[49m\u001b[38;5;124;43m'\u001b[39;49m\u001b[38;5;124;43mint\u001b[39;49m\u001b[38;5;124;43m'\u001b[39;49m\u001b[43m,\u001b[49m\u001b[43m \u001b[49m\u001b[38;5;124;43m'\u001b[39;49m\u001b[38;5;124;43mb\u001b[39;49m\u001b[38;5;124;43m'\u001b[39;49m\u001b[43m:\u001b[49m\u001b[43m \u001b[49m\u001b[38;5;124;43m'\u001b[39;49m\u001b[38;5;124;43mint\u001b[39;49m\u001b[38;5;124;43m'\u001b[39;49m\u001b[43m,\u001b[49m\u001b[43m \u001b[49m\u001b[38;5;124;43m'\u001b[39;49m\u001b[38;5;124;43mc\u001b[39;49m\u001b[38;5;124;43m'\u001b[39;49m\u001b[43m:\u001b[49m\u001b[43m \u001b[49m\u001b[38;5;124;43m'\u001b[39;49m\u001b[38;5;124;43mint\u001b[39;49m\u001b[38;5;124;43m'\u001b[39;49m\u001b[43m}\u001b[49m\u001b[43m)\u001b[49m\n",
      "File \u001b[0;32m/mnt/sw/nix/store/71ksmx7k6xy3v9ksfkv5mp5kxxp64pd6-python-3.10.13-view/lib/python3.10/site-packages/pandas/core/frame.py:704\u001b[0m, in \u001b[0;36mDataFrame.__init__\u001b[0;34m(self, data, index, columns, dtype, copy)\u001b[0m\n\u001b[1;32m    702\u001b[0m allow_mgr \u001b[38;5;241m=\u001b[39m \u001b[38;5;28;01mFalse\u001b[39;00m\n\u001b[1;32m    703\u001b[0m \u001b[38;5;28;01mif\u001b[39;00m dtype \u001b[38;5;129;01mis\u001b[39;00m \u001b[38;5;129;01mnot\u001b[39;00m \u001b[38;5;28;01mNone\u001b[39;00m:\n\u001b[0;32m--> 704\u001b[0m     dtype \u001b[38;5;241m=\u001b[39m \u001b[38;5;28;43mself\u001b[39;49m\u001b[38;5;241;43m.\u001b[39;49m\u001b[43m_validate_dtype\u001b[49m\u001b[43m(\u001b[49m\u001b[43mdtype\u001b[49m\u001b[43m)\u001b[49m\n\u001b[1;32m    706\u001b[0m \u001b[38;5;28;01mif\u001b[39;00m \u001b[38;5;28misinstance\u001b[39m(data, DataFrame):\n\u001b[1;32m    707\u001b[0m     data \u001b[38;5;241m=\u001b[39m data\u001b[38;5;241m.\u001b[39m_mgr\n",
      "File \u001b[0;32m/mnt/sw/nix/store/71ksmx7k6xy3v9ksfkv5mp5kxxp64pd6-python-3.10.13-view/lib/python3.10/site-packages/pandas/core/generic.py:516\u001b[0m, in \u001b[0;36mNDFrame._validate_dtype\u001b[0;34m(cls, dtype)\u001b[0m\n\u001b[1;32m    514\u001b[0m \u001b[38;5;250m\u001b[39m\u001b[38;5;124;03m\"\"\"validate the passed dtype\"\"\"\u001b[39;00m\n\u001b[1;32m    515\u001b[0m \u001b[38;5;28;01mif\u001b[39;00m dtype \u001b[38;5;129;01mis\u001b[39;00m \u001b[38;5;129;01mnot\u001b[39;00m \u001b[38;5;28;01mNone\u001b[39;00m:\n\u001b[0;32m--> 516\u001b[0m     dtype \u001b[38;5;241m=\u001b[39m \u001b[43mpandas_dtype\u001b[49m\u001b[43m(\u001b[49m\u001b[43mdtype\u001b[49m\u001b[43m)\u001b[49m\n\u001b[1;32m    518\u001b[0m     \u001b[38;5;66;03m# a compound dtype\u001b[39;00m\n\u001b[1;32m    519\u001b[0m     \u001b[38;5;28;01mif\u001b[39;00m dtype\u001b[38;5;241m.\u001b[39mkind \u001b[38;5;241m==\u001b[39m \u001b[38;5;124m\"\u001b[39m\u001b[38;5;124mV\u001b[39m\u001b[38;5;124m\"\u001b[39m:\n",
      "File \u001b[0;32m/mnt/sw/nix/store/71ksmx7k6xy3v9ksfkv5mp5kxxp64pd6-python-3.10.13-view/lib/python3.10/site-packages/pandas/core/dtypes/common.py:1645\u001b[0m, in \u001b[0;36mpandas_dtype\u001b[0;34m(dtype)\u001b[0m\n\u001b[1;32m   1640\u001b[0m     \u001b[38;5;28;01mwith\u001b[39;00m warnings\u001b[38;5;241m.\u001b[39mcatch_warnings():\n\u001b[1;32m   1641\u001b[0m         \u001b[38;5;66;03m# GH#51523 - Series.astype(np.integer) doesn't show\u001b[39;00m\n\u001b[1;32m   1642\u001b[0m         \u001b[38;5;66;03m# numpy deprecation warning of np.integer\u001b[39;00m\n\u001b[1;32m   1643\u001b[0m         \u001b[38;5;66;03m# Hence enabling DeprecationWarning\u001b[39;00m\n\u001b[1;32m   1644\u001b[0m         warnings\u001b[38;5;241m.\u001b[39msimplefilter(\u001b[38;5;124m\"\u001b[39m\u001b[38;5;124malways\u001b[39m\u001b[38;5;124m\"\u001b[39m, \u001b[38;5;167;01mDeprecationWarning\u001b[39;00m)\n\u001b[0;32m-> 1645\u001b[0m         npdtype \u001b[38;5;241m=\u001b[39m \u001b[43mnp\u001b[49m\u001b[38;5;241;43m.\u001b[39;49m\u001b[43mdtype\u001b[49m\u001b[43m(\u001b[49m\u001b[43mdtype\u001b[49m\u001b[43m)\u001b[49m\n\u001b[1;32m   1646\u001b[0m \u001b[38;5;28;01mexcept\u001b[39;00m \u001b[38;5;167;01mSyntaxError\u001b[39;00m \u001b[38;5;28;01mas\u001b[39;00m err:\n\u001b[1;32m   1647\u001b[0m     \u001b[38;5;66;03m# np.dtype uses `eval` which can raise SyntaxError\u001b[39;00m\n\u001b[1;32m   1648\u001b[0m     \u001b[38;5;28;01mraise\u001b[39;00m \u001b[38;5;167;01mTypeError\u001b[39;00m(\u001b[38;5;124mf\u001b[39m\u001b[38;5;124m\"\u001b[39m\u001b[38;5;124mdata type \u001b[39m\u001b[38;5;124m'\u001b[39m\u001b[38;5;132;01m{\u001b[39;00mdtype\u001b[38;5;132;01m}\u001b[39;00m\u001b[38;5;124m'\u001b[39m\u001b[38;5;124m not understood\u001b[39m\u001b[38;5;124m\"\u001b[39m) \u001b[38;5;28;01mfrom\u001b[39;00m \u001b[38;5;21;01merr\u001b[39;00m\n",
      "File \u001b[0;32m/mnt/sw/nix/store/71ksmx7k6xy3v9ksfkv5mp5kxxp64pd6-python-3.10.13-view/lib/python3.10/site-packages/numpy/core/_internal.py:62\u001b[0m, in \u001b[0;36m_usefields\u001b[0;34m(adict, align)\u001b[0m\n\u001b[1;32m     60\u001b[0m     names \u001b[38;5;241m=\u001b[39m \u001b[38;5;28;01mNone\u001b[39;00m\n\u001b[1;32m     61\u001b[0m \u001b[38;5;28;01mif\u001b[39;00m names \u001b[38;5;129;01mis\u001b[39;00m \u001b[38;5;28;01mNone\u001b[39;00m:\n\u001b[0;32m---> 62\u001b[0m     names, formats, offsets, titles \u001b[38;5;241m=\u001b[39m \u001b[43m_makenames_list\u001b[49m\u001b[43m(\u001b[49m\u001b[43madict\u001b[49m\u001b[43m,\u001b[49m\u001b[43m \u001b[49m\u001b[43malign\u001b[49m\u001b[43m)\u001b[49m\n\u001b[1;32m     63\u001b[0m \u001b[38;5;28;01melse\u001b[39;00m:\n\u001b[1;32m     64\u001b[0m     formats \u001b[38;5;241m=\u001b[39m []\n",
      "File \u001b[0;32m/mnt/sw/nix/store/71ksmx7k6xy3v9ksfkv5mp5kxxp64pd6-python-3.10.13-view/lib/python3.10/site-packages/numpy/core/_internal.py:32\u001b[0m, in \u001b[0;36m_makenames_list\u001b[0;34m(adict, align)\u001b[0m\n\u001b[1;32m     30\u001b[0m n \u001b[38;5;241m=\u001b[39m \u001b[38;5;28mlen\u001b[39m(obj)\n\u001b[1;32m     31\u001b[0m \u001b[38;5;28;01mif\u001b[39;00m \u001b[38;5;129;01mnot\u001b[39;00m \u001b[38;5;28misinstance\u001b[39m(obj, \u001b[38;5;28mtuple\u001b[39m) \u001b[38;5;129;01mor\u001b[39;00m n \u001b[38;5;129;01mnot\u001b[39;00m \u001b[38;5;129;01min\u001b[39;00m (\u001b[38;5;241m2\u001b[39m, \u001b[38;5;241m3\u001b[39m):\n\u001b[0;32m---> 32\u001b[0m     \u001b[38;5;28;01mraise\u001b[39;00m \u001b[38;5;167;01mValueError\u001b[39;00m(\u001b[38;5;124m\"\u001b[39m\u001b[38;5;124mentry not a 2- or 3- tuple\u001b[39m\u001b[38;5;124m\"\u001b[39m)\n\u001b[1;32m     33\u001b[0m \u001b[38;5;28;01mif\u001b[39;00m n \u001b[38;5;241m>\u001b[39m \u001b[38;5;241m2\u001b[39m \u001b[38;5;129;01mand\u001b[39;00m obj[\u001b[38;5;241m2\u001b[39m] \u001b[38;5;241m==\u001b[39m fname:\n\u001b[1;32m     34\u001b[0m     \u001b[38;5;28;01mcontinue\u001b[39;00m\n",
      "\u001b[0;31mValueError\u001b[0m: entry not a 2- or 3- tuple"
     ]
    },
    {
     "ename": "",
     "evalue": "",
     "output_type": "error",
     "traceback": [
      "\u001b[1;31mnotebook controller is DISPOSED. \n",
      "\u001b[1;31mView Jupyter <a href='command:jupyter.viewOutput'>log</a> for further details."
     ]
    },
    {
     "ename": "",
     "evalue": "",
     "output_type": "error",
     "traceback": [
      "\u001b[1;31mnotebook controller is DISPOSED. \n",
      "\u001b[1;31mView Jupyter <a href='command:jupyter.viewOutput'>log</a> for further details."
     ]
    },
    {
     "ename": "",
     "evalue": "",
     "output_type": "error",
     "traceback": [
      "\u001b[1;31mnotebook controller is DISPOSED. \n",
      "\u001b[1;31mView Jupyter <a href='command:jupyter.viewOutput'>log</a> for further details."
     ]
    },
    {
     "ename": "",
     "evalue": "",
     "output_type": "error",
     "traceback": [
      "\u001b[1;31mnotebook controller is DISPOSED. \n",
      "\u001b[1;31mView Jupyter <a href='command:jupyter.viewOutput'>log</a> for further details."
     ]
    },
    {
     "ename": "",
     "evalue": "",
     "output_type": "error",
     "traceback": [
      "\u001b[1;31mnotebook controller is DISPOSED. \n",
      "\u001b[1;31mView Jupyter <a href='command:jupyter.viewOutput'>log</a> for further details."
     ]
    },
    {
     "ename": "",
     "evalue": "",
     "output_type": "error",
     "traceback": [
      "\u001b[1;31mnotebook controller is DISPOSED. \n",
      "\u001b[1;31mView Jupyter <a href='command:jupyter.viewOutput'>log</a> for further details."
     ]
    },
    {
     "ename": "",
     "evalue": "",
     "output_type": "error",
     "traceback": [
      "\u001b[1;31mnotebook controller is DISPOSED. \n",
      "\u001b[1;31mView Jupyter <a href='command:jupyter.viewOutput'>log</a> for further details."
     ]
    },
    {
     "ename": "",
     "evalue": "",
     "output_type": "error",
     "traceback": [
      "\u001b[1;31mnotebook controller is DISPOSED. \n",
      "\u001b[1;31mView Jupyter <a href='command:jupyter.viewOutput'>log</a> for further details."
     ]
    },
    {
     "ename": "",
     "evalue": "",
     "output_type": "error",
     "traceback": [
      "\u001b[1;31mnotebook controller is DISPOSED. \n",
      "\u001b[1;31mView Jupyter <a href='command:jupyter.viewOutput'>log</a> for further details."
     ]
    }
   ],
   "source": [
    "df = pd.DataFrame([[1,2,3]], columns=['a', 'b', 'c'], dtype={'a': 'int', 'b': 'int', 'c': 'int'})"
   ]
  },
  {
   "cell_type": "code",
   "execution_count": null,
   "id": "780fb67e",
   "metadata": {},
   "outputs": [
    {
     "data": {
      "text/html": [
       "<div>\n",
       "<style scoped>\n",
       "    .dataframe tbody tr th:only-of-type {\n",
       "        vertical-align: middle;\n",
       "    }\n",
       "\n",
       "    .dataframe tbody tr th {\n",
       "        vertical-align: top;\n",
       "    }\n",
       "\n",
       "    .dataframe thead th {\n",
       "        text-align: right;\n",
       "    }\n",
       "</style>\n",
       "<table border=\"1\" class=\"dataframe\">\n",
       "  <thead>\n",
       "    <tr style=\"text-align: right;\">\n",
       "      <th></th>\n",
       "      <th>a</th>\n",
       "      <th>b</th>\n",
       "      <th>c</th>\n",
       "    </tr>\n",
       "  </thead>\n",
       "  <tbody>\n",
       "    <tr>\n",
       "      <th>0</th>\n",
       "      <td>1</td>\n",
       "      <td>2</td>\n",
       "      <td>3</td>\n",
       "    </tr>\n",
       "  </tbody>\n",
       "</table>\n",
       "</div>"
      ],
      "text/plain": [
       "   a  b  c\n",
       "0  1  2  3"
      ]
     },
     "execution_count": 10,
     "metadata": {},
     "output_type": "execute_result"
    },
    {
     "ename": "",
     "evalue": "",
     "output_type": "error",
     "traceback": [
      "\u001b[1;31mnotebook controller is DISPOSED. \n",
      "\u001b[1;31mView Jupyter <a href='command:jupyter.viewOutput'>log</a> for further details."
     ]
    },
    {
     "ename": "",
     "evalue": "",
     "output_type": "error",
     "traceback": [
      "\u001b[1;31mnotebook controller is DISPOSED. \n",
      "\u001b[1;31mView Jupyter <a href='command:jupyter.viewOutput'>log</a> for further details."
     ]
    },
    {
     "ename": "",
     "evalue": "",
     "output_type": "error",
     "traceback": [
      "\u001b[1;31mnotebook controller is DISPOSED. \n",
      "\u001b[1;31mView Jupyter <a href='command:jupyter.viewOutput'>log</a> for further details."
     ]
    },
    {
     "ename": "",
     "evalue": "",
     "output_type": "error",
     "traceback": [
      "\u001b[1;31mnotebook controller is DISPOSED. \n",
      "\u001b[1;31mView Jupyter <a href='command:jupyter.viewOutput'>log</a> for further details."
     ]
    },
    {
     "ename": "",
     "evalue": "",
     "output_type": "error",
     "traceback": [
      "\u001b[1;31mnotebook controller is DISPOSED. \n",
      "\u001b[1;31mView Jupyter <a href='command:jupyter.viewOutput'>log</a> for further details."
     ]
    },
    {
     "ename": "",
     "evalue": "",
     "output_type": "error",
     "traceback": [
      "\u001b[1;31mnotebook controller is DISPOSED. \n",
      "\u001b[1;31mView Jupyter <a href='command:jupyter.viewOutput'>log</a> for further details."
     ]
    },
    {
     "ename": "",
     "evalue": "",
     "output_type": "error",
     "traceback": [
      "\u001b[1;31mnotebook controller is DISPOSED. \n",
      "\u001b[1;31mView Jupyter <a href='command:jupyter.viewOutput'>log</a> for further details."
     ]
    },
    {
     "ename": "",
     "evalue": "",
     "output_type": "error",
     "traceback": [
      "\u001b[1;31mnotebook controller is DISPOSED. \n",
      "\u001b[1;31mView Jupyter <a href='command:jupyter.viewOutput'>log</a> for further details."
     ]
    },
    {
     "ename": "",
     "evalue": "",
     "output_type": "error",
     "traceback": [
      "\u001b[1;31mnotebook controller is DISPOSED. \n",
      "\u001b[1;31mView Jupyter <a href='command:jupyter.viewOutput'>log</a> for further details."
     ]
    },
    {
     "ename": "",
     "evalue": "",
     "output_type": "error",
     "traceback": [
      "\u001b[1;31mnotebook controller is DISPOSED. \n",
      "\u001b[1;31mView Jupyter <a href='command:jupyter.viewOutput'>log</a> for further details."
     ]
    },
    {
     "ename": "",
     "evalue": "",
     "output_type": "error",
     "traceback": [
      "\u001b[1;31mnotebook controller is DISPOSED. \n",
      "\u001b[1;31mView Jupyter <a href='command:jupyter.viewOutput'>log</a> for further details."
     ]
    },
    {
     "ename": "",
     "evalue": "",
     "output_type": "error",
     "traceback": [
      "\u001b[1;31mnotebook controller is DISPOSED. \n",
      "\u001b[1;31mView Jupyter <a href='command:jupyter.viewOutput'>log</a> for further details."
     ]
    }
   ],
   "source": [
    "df"
   ]
  }
 ],
 "metadata": {
  "kernelspec": {
   "display_name": "cher",
   "language": "python",
   "name": "python3"
  },
  "language_info": {
   "codemirror_mode": {
    "name": "ipython",
    "version": 3
   },
   "file_extension": ".py",
   "mimetype": "text/x-python",
   "name": "python",
   "nbconvert_exporter": "python",
   "pygments_lexer": "ipython3",
   "version": "3.10.13"
  }
 },
 "nbformat": 4,
 "nbformat_minor": 5
}
