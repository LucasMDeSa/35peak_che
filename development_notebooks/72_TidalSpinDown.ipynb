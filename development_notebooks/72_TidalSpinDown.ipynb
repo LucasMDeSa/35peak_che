{
 "cells": [
  {
   "cell_type": "markdown",
   "id": "ea93784a",
   "metadata": {},
   "source": [
    "# Notebook 55: Tidal spin-down"
   ]
  },
  {
   "cell_type": "code",
   "execution_count": 1,
   "id": "8950b62d",
   "metadata": {},
   "outputs": [
    {
     "name": "stderr",
     "output_type": "stream",
     "text": [
      "/mnt/sw/nix/store/71ksmx7k6xy3v9ksfkv5mp5kxxp64pd6-python-3.10.13-view/lib/python3.10/site-packages/numpy/core/getlimits.py:549: UserWarning: The value of the smallest subnormal for <class 'numpy.float64'> type is zero.\n",
      "  setattr(self, word, getattr(machar, word).flat[0])\n",
      "/mnt/sw/nix/store/71ksmx7k6xy3v9ksfkv5mp5kxxp64pd6-python-3.10.13-view/lib/python3.10/site-packages/numpy/core/getlimits.py:89: UserWarning: The value of the smallest subnormal for <class 'numpy.float64'> type is zero.\n",
      "  return self._float_to_str(self.smallest_subnormal)\n",
      "/mnt/sw/nix/store/71ksmx7k6xy3v9ksfkv5mp5kxxp64pd6-python-3.10.13-view/lib/python3.10/site-packages/numpy/core/getlimits.py:549: UserWarning: The value of the smallest subnormal for <class 'numpy.float32'> type is zero.\n",
      "  setattr(self, word, getattr(machar, word).flat[0])\n",
      "/mnt/sw/nix/store/71ksmx7k6xy3v9ksfkv5mp5kxxp64pd6-python-3.10.13-view/lib/python3.10/site-packages/numpy/core/getlimits.py:89: UserWarning: The value of the smallest subnormal for <class 'numpy.float32'> type is zero.\n",
      "  return self._float_to_str(self.smallest_subnormal)\n"
     ]
    }
   ],
   "source": [
    "from pathlib import Path\n",
    "from math import isnan, nan\n",
    "\n",
    "import numpy as np\n",
    "import matplotlib.pyplot as plt\n",
    "import matplotlib.cm as cm\n",
    "from matplotlib.colors import Normalize\n",
    "\n",
    "from scipy.stats import linregress\n",
    "\n",
    "import astropy.constants as ct\n",
    "import astropy.units as u\n",
    "from astropy.cosmology import WMAP9 as cosmo\n",
    "\n",
    "import mesa_reader as mr\n",
    "import mesaPlot as mp\n",
    "#import tulips as tp\n",
    "\n",
    "import sys\n",
    "sys.path.append('..')\n",
    "from src.util import CODE_ROOT, DATA_ROOT, MESA_DATA_ROOT\n",
    "from src.star import fix_unit\n",
    "from src.binary import WindIntegrator\n",
    "\n",
    "plt.style.use('./plotstyle.mplstyle')"
   ]
  },
  {
   "cell_type": "code",
   "execution_count": 2,
   "id": "473a1a39",
   "metadata": {},
   "outputs": [],
   "source": [
    "MASS_U = u.M_sun\n",
    "PERIOD_U = u.day\n",
    "AGE_U = u.yr\n",
    "SMA_U = u.R_sun\n",
    "RADIUS_U = u.R_sun\n",
    "TEMP_U = u.K\n",
    "LUMINOSITY_U = u.Lsun\n",
    "OMEGA_U = 1 / u.s\n",
    "TORQUE_U = u.g * u.cm**2 / u.s**2\n",
    "DENSITY_U = u.g / u.cm**3\n",
    "\n",
    "UOQ_TYPE = float | u.quantity.Quantity\n",
    "\"\"\"Type union of float and astropy.units.quantity.Quantity.\"\"\"\n",
    "\n",
    "t_H = cosmo.age(0).to(AGE_U).value"
   ]
  },
  {
   "cell_type": "code",
   "execution_count": 3,
   "id": "d281978d",
   "metadata": {},
   "outputs": [],
   "source": [
    "Z_SUN = 0.017"
   ]
  },
  {
   "cell_type": "code",
   "execution_count": 4,
   "id": "4d7d4c78",
   "metadata": {},
   "outputs": [],
   "source": [
    "def p_from_a(a, m, q):\n",
    "    a = fix_unit(a, SMA_U)\n",
    "    m = fix_unit(m, MASS_U)\n",
    "    p = np.sqrt(4 * np.pi**2 / (ct.G * (1+q) * m) * a**3)\n",
    "    p = p.to(PERIOD_U)\n",
    "    return p\n",
    "\n",
    "def a_from_p(p, m, q):\n",
    "    p = fix_unit(p, PERIOD_U)\n",
    "    m = fix_unit(m, MASS_U)\n",
    "    a = np.cbrt(ct.G * (1+q) * m / (4*np.pi**2) * p**2)\n",
    "    a = a.to(SMA_U)\n",
    "    return a"
   ]
  },
  {
   "cell_type": "code",
   "execution_count": 5,
   "id": "284576bd",
   "metadata": {},
   "outputs": [],
   "source": [
    "def get_model_dict(grid_folder):\n",
    "    \"\"\"Given a model folder, loads the paths of specific stars into a \n",
    "    m1, p_orb dictionary.\"\"\"\n",
    "    d = dict()\n",
    "    for model_folder in grid_folder.glob('m*_w*'):\n",
    "        if model_folder.suffix == '.log':\n",
    "            continue\n",
    "        try:\n",
    "            m, p, w = model_folder.name.replace('d', 'e').split('_')\n",
    "            w = float(w.lstrip('w'))\n",
    "            p = f'{float(p.lstrip(\"p\")):.2f}'      \n",
    "        except ValueError:\n",
    "            m, w = model_folder.name.replace('d', 'e').split('_')   \n",
    "            w = float(w.lstrip('w'))\n",
    "            p = (2*np.pi/w) / (60*60*24)\n",
    "        m = f'{float(m.lstrip(\"m\")):.1f}'\n",
    "    \n",
    "        if m not in d.keys():\n",
    "            d[m] = dict()\n",
    "        d[m][p] = model_folder\n",
    "    return d"
   ]
  },
  {
   "cell_type": "code",
   "execution_count": 6,
   "id": "2580faa6",
   "metadata": {},
   "outputs": [],
   "source": [
    "def load_models(project_folder):\n",
    "    model_folders = list(project_folder.glob('*_md*_m*_zsundiv*_*y0_*dy'))\n",
    "    _model_dicts = np.array([get_model_dict(folder) for folder in model_folders])\n",
    "    model_dicts = dict()\n",
    "    for dicts in _model_dicts:\n",
    "        for m in dicts.keys():\n",
    "            if m not in model_dicts.keys():\n",
    "                model_dicts[m] = dicts[m]\n",
    "    return model_dicts"
   ]
  },
  {
   "cell_type": "code",
   "execution_count": 7,
   "id": "7b0c7088",
   "metadata": {},
   "outputs": [],
   "source": [
    "project_folder = MESA_DATA_ROOT/'sse_enhanced_w_proof_of_concept/09_ZdivZsun_5d-4'\n",
    "model_dicts_00005zsun = load_models(project_folder)\n",
    "\n",
    "###\n",
    "\n",
    "project_folder = MESA_DATA_ROOT/'sse_enhanced_w_proof_of_concept/08_ZdivZsun_5d-3'\n",
    "model_dicts_0005zsun = load_models(project_folder)\n",
    "\n",
    "###\n",
    "\n",
    "project_folder = MESA_DATA_ROOT/'sse_enhanced_w_proof_of_concept/07_ZdivZsun_2d-2'\n",
    "model_dicts_002zsun = load_models(project_folder)\n",
    "\n",
    "###\n",
    "\n",
    "project_folder = MESA_DATA_ROOT/'sse_enhanced_w_proof_of_concept/06_ZdivZsun_5d-2'\n",
    "model_dicts_005zsun = load_models(project_folder)\n",
    "\n",
    "###\n",
    "\n",
    "project_folder = MESA_DATA_ROOT/'sse_enhanced_w_proof_of_concept/00_ZdivZsun_1d-1'\n",
    "model_dicts_01zsun = load_models(project_folder)\n",
    "\n",
    "###\n",
    "\n",
    "project_folder = MESA_DATA_ROOT/'sse_enhanced_w_proof_of_concept/01_ZdivZsun_2d-1'\n",
    "model_dicts_02zsun = load_models(project_folder)\n",
    "\n",
    "###\n",
    "\n",
    "project_folder = MESA_DATA_ROOT/'sse_enhanced_w_proof_of_concept/02_ZdivZsun_4d-1'\n",
    "model_dicts_04zsun = load_models(project_folder)\n",
    "\n",
    "###\n",
    "\n",
    "project_folder = MESA_DATA_ROOT/'sse_enhanced_w_proof_of_concept/03_ZdivZsun_6d-1'\n",
    "model_dicts_06zsun = load_models(project_folder)\n",
    "\n",
    "###\n",
    "\n",
    "project_folder = MESA_DATA_ROOT/'sse_enhanced_w_proof_of_concept/04_ZdivZsun_8d-1'\n",
    "model_dicts_08zsun = load_models(project_folder)\n",
    "\n",
    "###\n",
    "\n",
    "project_folder = MESA_DATA_ROOT/'sse_enhanced_w_proof_of_concept/05_ZdivZsun_1d0'\n",
    "model_dicts_10zsun = load_models(project_folder)\n"
   ]
  },
  {
   "cell_type": "code",
   "execution_count": 8,
   "id": "af5a6f9c",
   "metadata": {},
   "outputs": [],
   "source": [
    "all_model_dicts = {\n",
    "    '0.0005': model_dicts_00005zsun,\n",
    "    '0.005': model_dicts_0005zsun,\n",
    "    '0.02': model_dicts_002zsun,\n",
    "    '0.05': model_dicts_005zsun,\n",
    "    '0.1': model_dicts_01zsun,\n",
    "    '0.2': model_dicts_02zsun,\n",
    "    '0.4': model_dicts_04zsun,\n",
    "    '0.6': model_dicts_06zsun,\n",
    "    '0.8': model_dicts_08zsun,\n",
    "    '1.0': model_dicts_10zsun\n",
    "}"
   ]
  },
  {
   "cell_type": "markdown",
   "id": "26c99cd4",
   "metadata": {},
   "source": [
    "# Orbital widening"
   ]
  },
  {
   "cell_type": "code",
   "execution_count": 9,
   "id": "af3ace9f",
   "metadata": {},
   "outputs": [],
   "source": [
    "class WindIntegrator:\n",
    "    \n",
    "    def __init__(self, model_path, q0=1) -> None:\n",
    "        self.h = mr.MesaData(str(model_path/'LOGS/history.data'))\n",
    "        self.logs = mr.MesaLogDir(str(model_path/'LOGS'))\n",
    "        self.time = self.h.star_age\n",
    "        self.mdot = -10.**self.h.log_abs_mdot\n",
    "        self.w0 = self.h.surf_avg_omega[np.where(self.h.surf_avg_omega > 0)[0][0]]\n",
    "        self.p0 = 2*np.pi/self.w0 * u.s.to(u.d)\n",
    "        self.q0 = q0\n",
    "        \n",
    "    @staticmethod\n",
    "    def a_from_p(p, m, q):\n",
    "        p = fix_unit(p, u.d)\n",
    "        m = fix_unit(m, u.Msun)\n",
    "        a = np.cbrt(ct.G * (1+q) * m / (4*np.pi**2) * p**2)\n",
    "        a = a.to(u.Rsun).value\n",
    "        return a\n",
    "        \n",
    "    @staticmethod\n",
    "    def p_from_a(a, m, q):\n",
    "        a = fix_unit(a, u.Rsun)\n",
    "        m = fix_unit(m, u.Msun)\n",
    "        p = np.sqrt(4 * np.pi**2 / (ct.G * (1+q) * m) * a**3)\n",
    "        p = p.to(u.d).value\n",
    "        return p\n",
    "    \n",
    "    def integrate(self, t_target):\n",
    "        m = self.h.star_mass[0]\n",
    "        p = self.p0\n",
    "        q = self.q0\n",
    "        a = self.a_from_p(p, m, q)\n",
    "        \n",
    "        i = 0\n",
    "        t0 = self.time[i]\n",
    "        t1 = self.time[i+1]\n",
    "        mdot = self.mdot[i]\n",
    "        while t1 < t_target:\n",
    "            dm = mdot*(t1-t0)\n",
    "            da = -2/(1+q) * dm/m * a\n",
    "            dq = 0\n",
    "            \n",
    "            m += dm\n",
    "            a += da\n",
    "            q += dq\n",
    "            p = self.p_from_a(a, m, q)\n",
    "            \n",
    "            i += 1\n",
    "            try:\n",
    "                t1 = self.time[i+1]   \n",
    "            except:\n",
    "                print(f'Reached end of model at t={t1/1e3:.2f} kyr')\n",
    "                break\n",
    "            else:\n",
    "                t0 = self.time[i]\n",
    "                mdot = self.mdot[i]\n",
    "        \n",
    "        return m, p, a, q, t1"
   ]
  },
  {
   "cell_type": "code",
   "execution_count": 10,
   "id": "bacc0c4a",
   "metadata": {},
   "outputs": [],
   "source": [
    "def radiative_damping_torque(total_m, total_r, core_m, core_r, core_bound_rho, p_spin, p_orb, q=1, beta2=1.):\n",
    "    total_m = fix_unit(total_m, MASS_U)\n",
    "    total_r = fix_unit(total_r, RADIUS_U)\n",
    "    core_m = fix_unit(core_m, MASS_U)\n",
    "    core_r = fix_unit(core_r, RADIUS_U)\n",
    "    core_bound_rho = fix_unit(core_bound_rho, DENSITY_U)\n",
    "    p_spin = fix_unit(p_spin, PERIOD_U)\n",
    "    p_orb = fix_unit(p_orb, PERIOD_U)\n",
    "    \n",
    "    w_spin = 2*np.pi/p_spin\n",
    "    w_orb = 2*np.pi/p_orb\n",
    "    a = a_from_p(p_orb, total_m, 1)\n",
    "    d = 2*a\n",
    "    sc = 2 * np.abs(w_spin - w_orb) * np.sqrt(core_r**3 / ct.G / core_m)\n",
    "    \n",
    "    mean_rho_b = (core_m / (4/3 * np.pi * core_r**3)).to(DENSITY_U)\n",
    "    rho_ratio = core_bound_rho / mean_rho_b\n",
    "    mass_term = ct.G * (q*total_m)**2 / core_r\n",
    "    \n",
    "    torque = beta2 * mass_term * (core_r/d)**6 * sc**(8/3) * rho_ratio * (1 - rho_ratio)**2\n",
    "    sign = np.sign(w_orb - w_spin)\n",
    "    return sign * torque.to(TORQUE_U)\n",
    "    "
   ]
  },
  {
   "cell_type": "code",
   "execution_count": 11,
   "id": "f7407378",
   "metadata": {},
   "outputs": [],
   "source": [
    "def get_moment_of_inertia(prof, stop_i=-1):\n",
    "    r_arr = prof.radius[::-1] * u.Rsun.to(u.cm)\n",
    "    rho_arr = 10.**prof.logRho[::-1]\n",
    "    \n",
    "    r_arr = r_arr[:stop_i]\n",
    "    rho_arr = rho_arr[:stop_i]\n",
    "    \n",
    "    i = 0\n",
    "    for rho, r0, r1 in zip(rho_arr, r_arr[:-1], r_arr[1:]):\n",
    "        dv = 4/3 * np.pi * (r1**3 - r0**3)\n",
    "        di = rho * r0**2 * dv\n",
    "        i += di\n",
    "        \n",
    "    return i"
   ]
  },
  {
   "cell_type": "code",
   "execution_count": 12,
   "id": "4e576cad",
   "metadata": {},
   "outputs": [],
   "source": [
    "path = model_dicts_01zsun['80.0']['1.40']\n",
    "logs = mr.MesaLogDir(str(path/'LOGS'))"
   ]
  },
  {
   "cell_type": "code",
   "execution_count": 13,
   "id": "e3b61efd",
   "metadata": {},
   "outputs": [
    {
     "data": {
      "text/plain": [
       "array([   1,  100,  200,  300,  400,  500,  600,  700,  800,  900, 1000,\n",
       "       1100, 1200, 1300, 1400, 1500, 1600, 1700, 1800, 1900, 2000, 2100,\n",
       "       2200, 2300, 2400, 2500, 2600, 2700, 2800, 2900, 3000, 3100, 3200,\n",
       "       3300, 3400, 3500, 3600, 3700, 3731])"
      ]
     },
     "execution_count": 13,
     "metadata": {},
     "output_type": "execute_result"
    }
   ],
   "source": [
    "logs.model_numbers"
   ]
  },
  {
   "cell_type": "code",
   "execution_count": 14,
   "id": "f1c8d856",
   "metadata": {},
   "outputs": [
    {
     "name": "stderr",
     "output_type": "stream",
     "text": [
      "/mnt/sw/nix/store/71ksmx7k6xy3v9ksfkv5mp5kxxp64pd6-python-3.10.13-view/lib/python3.10/site-packages/astropy/units/quantity.py:611: RuntimeWarning: divide by zero encountered in divide\n",
      "  result = super().__array_ufunc__(function, method, *arrays, **kwargs)\n"
     ]
    }
   ],
   "source": [
    "sync_tscale_evolution = np.zeros((len(logs.model_numbers), 8))\n",
    "# age center_h1 center_he4 center_c12 p_orb p_spin torque tscale\n",
    "\n",
    "for i, n in enumerate(logs.model_numbers):\n",
    "    prof = logs.profile_data(model_number=n)\n",
    "    conv_core_bound_i = len(prof.mixing_type) - np.where(prof.mixing_type[::-1] != 1)[0][0]\n",
    "    conv_core_bound_i = min(conv_core_bound_i, len(prof.mixing_type)-1)\n",
    "    conv_core_bound_rho = 10.**prof.logRho[conv_core_bound_i] * u.g * u.cm**-3\n",
    "    conv_core_m = prof.mass[conv_core_bound_i] * u.Msun\n",
    "    conv_core_r = prof.radius[conv_core_bound_i] * u.Rsun\n",
    "    total_m = prof.mass[0] * u.Msun\n",
    "    total_r = prof.radius[0] * u.Rsun\n",
    "    w_spin = prof.omega[0] / u.s\n",
    "    p_spin = 2*np.pi / w_spin\n",
    "    total_moment_of_inertia = get_moment_of_inertia(prof) * u.g * u.cm**2\n",
    "\n",
    "    wi = WindIntegrator(path)\n",
    "    _m, p_orb, *_ = wi.integrate(prof.star_age)\n",
    "    p_orb *= u.d.to(u.s) * u.s\n",
    "\n",
    "    torque = radiative_damping_torque(total_m, total_r, conv_core_m, conv_core_r, conv_core_bound_rho, p_spin, p_orb)\n",
    "\n",
    "    sync_timescale = np.abs(1/(torque/total_moment_of_inertia / w_spin)).to(u.yr).value\n",
    "    \n",
    "    sync_tscale_evolution[i] = [\n",
    "        prof.star_age,\n",
    "        prof.h1[-1],\n",
    "        prof.he4[-1],\n",
    "        prof.c12[-1],\n",
    "        p_orb.value,\n",
    "        p_spin.value,\n",
    "        torque.value,\n",
    "        sync_timescale\n",
    "    ]\n",
    "        "
   ]
  },
  {
   "cell_type": "code",
   "execution_count": 18,
   "id": "c91ee51d",
   "metadata": {},
   "outputs": [
    {
     "data": {
      "text/plain": [
       "Text(0, 0.5, '$P_\\\\mathrm{spin}/\\\\mathrm{d}$')"
      ]
     },
     "execution_count": 18,
     "metadata": {},
     "output_type": "execute_result"
    },
    {
     "data": {
      "image/png": "[encoded data removed]",
      "text/plain": [
       "<Figure size 1000x600 with 1 Axes>"
      ]
     },
     "metadata": {},
     "output_type": "display_data"
    }
   ],
   "source": [
    "fig, ax = plt.subplots(1, 1, figsize=(10, 6))\n",
    "cmap = cm.viridis\n",
    "\n",
    "x = sync_tscale_evolution[:, 4] / u.d.to(u.s)\n",
    "y = sync_tscale_evolution[:, 5] / u.d.to(u.s)\n",
    "c = sync_tscale_evolution[:, 2]\n",
    "\n",
    "ax.scatter(x, y, c=c, cmap=cmap, s=50)\n",
    "ax.plot(np.linspace(0, 20, 10), np.linspace(0, 20, 10), 'k-', lw=1)\n",
    "#ax.set_xlim(0, 20)\n",
    "ax.set_xlabel('$P_\\\\mathrm{orb}/\\\\mathrm{d}$')\n",
    "ax.set_ylabel('$P_\\\\mathrm{spin}/\\\\mathrm{d}$')\n",
    "#ax.set_ylim(0, 20)\n",
    "#ax.set_yscale('log')\n",
    "#ax.set_ylim(1e-3, 1e6)"
   ]
  },
  {
   "cell_type": "code",
   "execution_count": 26,
   "id": "0d3297ce",
   "metadata": {},
   "outputs": [
    {
     "data": {
      "text/plain": [
       "(0.001, 1000000000000.0)"
      ]
     },
     "execution_count": 26,
     "metadata": {},
     "output_type": "execute_result"
    },
    {
     "data": {
      "image/png": "[encoded data removed]",
      "text/plain": [
       "<Figure size 1000x600 with 2 Axes>"
      ]
     },
     "metadata": {},
     "output_type": "display_data"
    }
   ],
   "source": [
    "fig, ax = plt.subplots(1, 1, figsize=(10, 6))\n",
    "cmap = cm.viridis\n",
    "\n",
    "x = sync_tscale_evolution[:, 0] / 1e6\n",
    "y = sync_tscale_evolution[:, 7] / 1e6\n",
    "c = sync_tscale_evolution[:, 2]\n",
    "\n",
    "ax.scatter(x, y, c=c, cmap=cmap, s=50)\n",
    "ax.set_yscale('log')\n",
    "#ax.set_ylim(1e-3, 1e6)\n",
    "ax.set_xlabel('Age/Myr')\n",
    "ax.set_ylabel('$\\\\tau_\\mathrm{sync}/\\\\mathrm{Myr}$')\n",
    "\n",
    "sm = cm.ScalarMappable(Normalize(vmin=0, vmax=1), cmap=cmap)\n",
    "cb = fig.colorbar(sm, ax=ax)\n",
    "cb.set_label('Center He4')\n",
    "ax.set_ylim(1e-3, 1e12)"
   ]
  },
  {
   "cell_type": "code",
   "execution_count": 18,
   "id": "5229b67a",
   "metadata": {},
   "outputs": [
    {
     "data": {
      "text/plain": [
       "(<Quantity 18142677.8390437 s>, <Quantity 127012.57781125 s>)"
      ]
     },
     "execution_count": 18,
     "metadata": {},
     "output_type": "execute_result"
    }
   ],
   "source": [
    "p_orb, p_spin"
   ]
  },
  {
   "cell_type": "code",
   "execution_count": 19,
   "id": "9a8cf46a",
   "metadata": {},
   "outputs": [
    {
     "data": {
      "text/latex": [
       "$2.9473215 \\times 10^{50} \\; \\mathrm{\\frac{cm^{2}\\,g}{s}}$"
      ],
      "text/plain": [
       "<Quantity 2.94732148e+50 cm2 g / s>"
      ]
     },
     "execution_count": 19,
     "metadata": {},
     "output_type": "execute_result"
    }
   ],
   "source": [
    "total_moment_of_inertia * w_spin"
   ]
  },
  {
   "cell_type": "code",
   "execution_count": 20,
   "id": "15bbae33",
   "metadata": {},
   "outputs": [],
   "source": [
    "torque = radiative_damping_torque(total_m, total_r, conv_core_m, conv_core_r, conv_core_bound_rho, p_spin, p_orb)"
   ]
  },
  {
   "cell_type": "code",
   "execution_count": 21,
   "id": "3763b6c8",
   "metadata": {},
   "outputs": [
    {
     "data": {
      "text/latex": [
       "$-1.8457996 \\times 10^{-12} \\; \\mathrm{\\frac{cm^{2}\\,g}{s^{2}}}$"
      ],
      "text/plain": [
       "<Quantity -1.84579961e-12 cm2 g / s2>"
      ]
     },
     "execution_count": 21,
     "metadata": {},
     "output_type": "execute_result"
    }
   ],
   "source": [
    "torque"
   ]
  },
  {
   "cell_type": "code",
   "execution_count": 22,
   "id": "009335f6",
   "metadata": {},
   "outputs": [
    {
     "data": {
      "text/latex": [
       "$5.0598657 \\times 10^{48} \\; \\mathrm{Myr}$"
      ],
      "text/plain": [
       "<Quantity 5.05986573e+48 Myr>"
      ]
     },
     "execution_count": 22,
     "metadata": {},
     "output_type": "execute_result"
    }
   ],
   "source": [
    "np.abs(1/(torque/total_moment_of_inertia / w_spin)).to(u.Myr)"
   ]
  },
  {
   "cell_type": "code",
   "execution_count": 23,
   "id": "2d52c745",
   "metadata": {},
   "outputs": [
    {
     "data": {
      "text/plain": [
       "array([4.94690008e-05, 4.94690008e-05, 4.94691358e-05, ...,\n",
       "       3.85730004e-03, 3.85730004e-03, 3.85730004e-03])"
      ]
     },
     "execution_count": 23,
     "metadata": {},
     "output_type": "execute_result"
    }
   ],
   "source": [
    "prof.omega"
   ]
  },
  {
   "cell_type": "code",
   "execution_count": 24,
   "id": "048ae734",
   "metadata": {},
   "outputs": [
    {
     "data": {
      "text/plain": [
       "array([1, 1, 1, ..., 7, 7, 7])"
      ]
     },
     "execution_count": 24,
     "metadata": {},
     "output_type": "execute_result"
    }
   ],
   "source": [
    "prof.mixing_type"
   ]
  },
  {
   "cell_type": "code",
   "execution_count": null,
   "id": "1255cfe9",
   "metadata": {},
   "outputs": [],
   "source": []
  }
 ],
 "metadata": {
  "kernelspec": {
   "display_name": "cher",
   "language": "python",
   "name": "python3"
  },
  "language_info": {
   "codemirror_mode": {
    "name": "ipython",
    "version": 3
   },
   "file_extension": ".py",
   "mimetype": "text/x-python",
   "name": "python",
   "nbconvert_exporter": "python",
   "pygments_lexer": "ipython3",
   "version": "3.10.13"
  }
 },
 "nbformat": 4,
 "nbformat_minor": 5
}
